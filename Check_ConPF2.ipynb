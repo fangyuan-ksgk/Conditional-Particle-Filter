{
 "cells": [
  {
   "cell_type": "markdown",
   "metadata": {},
   "source": [
    "#### Model: $dX_t = \\theta_{1}(\\theta_{2}-X_{t})dt + \\sigma dW_{t}$, $Y_{t}|X_{t} \\sim \\mathcal{N}(X_{t},\\theta_{2}^2)$"
   ]
  },
  {
   "cell_type": "code",
   "execution_count": 55,
   "metadata": {},
   "outputs": [],
   "source": [
    "import numpy as np\n",
    "from numpy import math\n",
    "\n",
    "####### Model Specification ########\n",
    "theta = np.array([0,0,0.01])\n",
    "sigma = 2\n",
    "initial_val = 5\n",
    "####################################\n",
    "\n",
    "def diff_coef(x, dt, dw):\n",
    "    return sigma*np.sqrt(dt)*dw\n",
    "\n",
    "def drift_coef(x, dt):\n",
    "    return theta[0]*(theta[1]-x)*dt\n",
    "\n",
    "# Log-scaled unnormalized likelihood function p(y|x)\n",
    "def likelihood_logscale(y, x):\n",
    "    d = (y-x)\n",
    "    gn = -1/2*(d**2/theta[2]**2)\n",
    "    return gn\n",
    "\n",
    "# Resampling - input two-dimensional particle x\n",
    "def resampling(weight, gn, N, x):\n",
    "    ess = 1/((weight**2).sum())\n",
    "    if ess <= (N/2):\n",
    "        ## Sample with uniform dice\n",
    "        dice = np.random.random_sample(N)\n",
    "        ## np.cumsum obtains CDF out of PMF\n",
    "        bins = np.cumsum(weight)\n",
    "        ## np.digitize gets the indice of the bins where the dice belongs to \n",
    "        x_hat = x[:,np.digitize(dice,bins)]\n",
    "        ## after resampling we reset the accumulating weight\n",
    "        gn = np.zeros(N)\n",
    "    if ess > (N/2):\n",
    "        x_hat = x\n",
    "    \n",
    "    return x_hat, gn\n",
    "\n",
    "# Sampling out according to the weight\n",
    "def sample_output(weight, N, x):\n",
    "    ## Sample with uniform dice\n",
    "    dice = np.random.random_sample(1)\n",
    "    ## np.cumsum obtains CDF out of PMF\n",
    "    bins = np.cumsum(weight)\n",
    "    ## np.digitize gets the indice of the bins where the dice belongs to \n",
    "    x_hat = x[:,np.digitize(dice,bins)].reshape(x.shape[0])\n",
    "    ## return the sampled particle path\n",
    "    return x_hat\n",
    "    \n",
    "\n",
    "def get_discrete_ind(t,l):\n",
    "    return int(t*2**l)\n",
    "\n",
    "def initial_path_gen(l,T):\n",
    "    hl = 2**(-l)\n",
    "    time_len = get_discrete_ind(T,l)\n",
    "    ## Initial value\n",
    "    un1 = np.zeros(time_len+1) + initial_val\n",
    "    for t in range(T):\n",
    "        ind = get_discrete_ind(t,l)\n",
    "        for dt in range(2**l):\n",
    "            dw = np.random.randn(1)\n",
    "            un1[ind+dt+1] = un1[ind+dt] + drift_coef(un1[ind+dt], hl) + diff_coef(un1[ind+dt], hl, dw[0])\n",
    "    return un1\n",
    "\n",
    "def sig_mean(t):\n",
    "    return initial_val*np.exp(-theta[0]*t) + theta[1]*(1-np.exp(-theta[0]*t))\n",
    "\n",
    "## Used only when theta[0] != 0\n",
    "def sig_var(t):\n",
    "    return (sigma**2 / (2*theta[0])) * (1-np.exp(-2*theta[0]*t))\n",
    "\n",
    "def coef(x, y): \n",
    "    # number of observations/points \n",
    "    n = np.size(x) \n",
    "  \n",
    "    # mean of x and y vector \n",
    "    m_x, m_y = np.mean(x), np.mean(y) \n",
    "  \n",
    "    # calculating cross-deviation and deviation about x \n",
    "    SS_xy = np.sum(y*x) - n*m_y*m_x \n",
    "    SS_xx = np.sum(x*x) - n*m_x*m_x \n",
    "  \n",
    "    # calculating regression coefficients \n",
    "    b_1 = SS_xy / SS_xx \n",
    "    b_0 = m_y - b_1*m_x \n",
    "  \n",
    "    return(b_0, b_1) \n",
    "\n",
    "\n",
    "def gen_data(T):\n",
    "    Y = np.zeros(T+1)\n",
    "    for t in range(T+1):\n",
    "        std = np.sqrt(sig_var(t) + theta[2]**2)\n",
    "        Y[t] = sig_mean(t) + std * np.random.randn(1)\n",
    "    return Y\n",
    "\n",
    "def grad_exact(theta,T,Y):\n",
    "    m_x = np.zeros(T+1)\n",
    "    v_x = np.zeros(T+1)\n",
    "    grad_m = np.zeros((T+1,3))\n",
    "    grad_v = np.zeros((T+1,3))\n",
    "    grad_vt3 = np.zeros((T+1,3))\n",
    "\n",
    "    grad1 = np.zeros((T+1,3))\n",
    "    grad2 = np.zeros((T+1,3))\n",
    "    for t in range(1,T+1):\n",
    "        m_x[t] = initial_val*np.exp(-theta[0]*t) + theta[1]*(1-np.exp(-theta[0]*t))        \n",
    "        v_x[t] = (sigma**2 / (2*theta[0])) * (1-np.exp(-2*theta[0]*t))\n",
    "\n",
    "        grad_m[t,0] = (theta[1]-initial_val)*t*np.exp(-theta[0]*t)\n",
    "        grad_m[t,1] = 1-np.exp(-theta[0]*t)\n",
    "        grad_v[t,0] = -((sigma**2)/(2*theta[0]**2))*(1-np.exp(-2*theta[0]*t)) + (t*(sigma**2)/theta[0])*np.exp(-2*theta[0]*t)\n",
    "        grad_vt3[t] = grad_v[t] + np.array([0,0,theta[2]*2])\n",
    "\n",
    "        grad1[t] = -0.5*grad_vt3[t]/(v_x[t]+theta[2]**2)    \n",
    "        grad2[t] = (-0.5)*( 2*(Y[t]-m_x[t])*(-grad_m[t])*(v_x[t]+theta[2]**2) -  grad_vt3[t]*(Y[t]-m_x[t])**2 ) / (v_x[t]+theta[2]**2)**2\n",
    "        \n",
    "    return np.sum(grad1+grad2,axis=0) "
   ]
  },
  {
   "cell_type": "markdown",
   "metadata": {},
   "source": [
    "#### Cond-PF function"
   ]
  },
  {
   "cell_type": "code",
   "execution_count": 56,
   "metadata": {},
   "outputs": [],
   "source": [
    "def Conditional_particle_filter(l,T,N,particle_path):\n",
    "    \n",
    "    hl = 2**(-l)\n",
    "    time_len = get_discrete_ind(T,l)\n",
    "    un = np.zeros((time_len+1,N)) + initial_val\n",
    "    un_hat = np.zeros(un.shape) + initial_val\n",
    "    gn = np.zeros(N)\n",
    "    for t in range(T):\n",
    "        ind = get_discrete_ind(t,l)\n",
    "        un[:ind+1] = un_hat[:ind+1]\n",
    "        \n",
    "        for dt in range(2**l):\n",
    "            dw = np.random.randn(N)\n",
    "            un[ind+dt+1] = un[ind+dt] + drift_coef(un[ind+dt], hl) + diff_coef(un[ind+dt], hl, dw)\n",
    "            \n",
    "        # Main point for conditional PF is that the last particle is fixed, and it joins the resampling process\n",
    "        next_ind = get_discrete_ind(t+1,l)\n",
    "        un[:,-1] = particle_path\n",
    "        \n",
    "        # Cumulating weight function\n",
    "        gn = likelihood_logscale(Y[t+1], un[next_ind]) + gn\n",
    "        what = np.exp(gn-np.max(gn))\n",
    "        wn = what/np.sum(what)\n",
    "        \n",
    "        # Wasserstein resampling\n",
    "        un_hat[:next_ind+1], gn = resampling(wn, gn, N, un[:next_ind+1])\n",
    "        un_hat[:,-1] = particle_path\n",
    "        \n",
    "    # Sample out a path and output it\n",
    "    return sample_output(wn, N, un)"
   ]
  },
  {
   "cell_type": "markdown",
   "metadata": {},
   "source": [
    "#### RTS function, usful when $\\theta_{2}=0$"
   ]
  },
  {
   "cell_type": "code",
   "execution_count": 57,
   "metadata": {},
   "outputs": [],
   "source": [
    "def RTS_OU(theta,T,Y):\n",
    "    ## Paramter calculation\n",
    "    F = np.exp(-theta[0])\n",
    "    Q = ((sigma**2)/(2*theta[0])) * (1-np.exp(-2*theta[0]))\n",
    "    H = 1\n",
    "    R = theta[2]**2\n",
    "    \n",
    "    mu = np.zeros(T+1)\n",
    "    V = np.zeros(T+1)\n",
    "    P = np.zeros(T+1)\n",
    "    K = np.zeros(T+1)\n",
    "    ## Initialize: At time 0 no data is available thus X_0|Y_0 \\sim X_0\n",
    "    mu[0]=initial_val\n",
    "    V[0]=0\n",
    "    ## P[0] is variance of X_1\n",
    "    P[0] = F*V[0]*F + Q\n",
    "    ## Loop \n",
    "    for t in range(1,T+1): \n",
    "        K[t] = P[t-1]*H / (H*P[t-1]*H + R)\n",
    "        mu[t] = F*mu[t-1] + K[t]*(Y[t]-H*F*mu[t-1])\n",
    "        V[t] = (1-K[t]*H)*P[t-1]\n",
    "        P[t] = F*V[t]*F + Q\n",
    "\n",
    "    ## RTS loop\n",
    "    C = np.zeros(T+1)\n",
    "    Vhat = np.zeros(T+1)\n",
    "    muhat = np.zeros(T+1)\n",
    "    muhat[-1] = mu[-1]\n",
    "    Vhat[-1] = V[-1]\n",
    "    for t in reversed(range(T)):\n",
    "        C[t] = V[t]*F / P[t]\n",
    "        muhat[t] = mu[t] + C[t]*(muhat[t+1]-F*mu[t])\n",
    "        Vhat[t] = V[t] + C[t]*(Vhat[t+1]-P[t])*C[t]\n",
    "    return muhat,Vhat"
   ]
  },
  {
   "cell_type": "markdown",
   "metadata": {},
   "source": [
    "#### $G_{\\theta}(x) = \\nabla_{\\theta}\\log \\frac{d\\mathbb{P}_{\\theta}}{d\\mathbb{Q}} + \\sum_{t=1}^{T}\\nabla_{\\theta}\\log g_{\\theta}(y_{t}|x_{t})$\n",
    "#### $G_{\\theta}(x)_{3} = \\sum_{t=1}^{T}\\frac{d}{d\\theta_{3}}\\log g_{\\theta}(y_{t}|x_{t})$"
   ]
  },
  {
   "cell_type": "code",
   "execution_count": 58,
   "metadata": {},
   "outputs": [],
   "source": [
    "def grad_lgT(theta,x_seq): \n",
    "    T = int(x_seq.shape[0]-1)\n",
    "    grad_val = np.zeros(T+1)\n",
    "    for t in range(1,T+1):\n",
    "        grad_val[t] =  -1/theta[2] + (Y[t]-x_seq[t])**2/(theta[2]**3)\n",
    "    return np.sum(grad_val[1:])\n",
    "\n",
    "def Gfunc_discrete(l,x_discrete):\n",
    "    \n",
    "    gtheta = np.zeros(3)\n",
    "    ## First & Second entry\n",
    "    hl = 2**(-l)    \n",
    "    gtheta[0] += sigma**(-2) * np.sum((theta[1] - x_discrete[:-1]) * (x_discrete[1:]-x_discrete[:-1]))\n",
    "    gtheta[0] -= sigma**(-2) * theta[0] * np.sum((theta[1]-x_discrete[:-1])**2) * hl\n",
    "    \n",
    "    gtheta[1] += sigma**(-2)*theta[0]*(x_discrete[-1]-x_discrete[0])\n",
    "    gtheta[1] -= sigma**(-2) * theta[0]**2 * np.sum(theta[1]-x_discrete[:-1]) * hl\n",
    "        \n",
    "    ## Third entry\n",
    "    x_seq = x_discrete[0::2**l]\n",
    "    T = x_seq.shape[0]-1\n",
    "    gtheta[2] = grad_lgT(theta,x_seq)\n",
    "        \n",
    "    return gtheta"
   ]
  },
  {
   "cell_type": "code",
   "execution_count": 59,
   "metadata": {},
   "outputs": [],
   "source": [
    "def Gl(l,x_discrete):\n",
    "    \n",
    "    gtheta = np.zeros(3)\n",
    "    ## First & Second entry\n",
    "    hl = 2**(-l)    \n",
    "    ## Get unit path & Time\n",
    "    x_seq = x_discrete[0::2**l]\n",
    "    T = x_seq.shape[0]-1\n",
    "\n",
    "    ## \\int x_t dt approximation\n",
    "    inte_x = np.sum(x_discrete[:-1]*hl)\n",
    "    ## \\int x_t^2 dt approximation\n",
    "    inte_sx = np.sum(x_discrete[:-1]**2 * hl)\n",
    "    ## difference\n",
    "    diff_x = x_discrete[-1] - x_discrete[0]\n",
    "    ## squared difference\n",
    "    sdiff_x = x_discrete[-1]**2 -x_discrete[0]**2\n",
    "\n",
    "    ## Entry computation\n",
    "    gtheta[0] = sigma**(-2) * ( theta[1]*diff_x + 0.5*sigma**2*T - 0.5*sdiff_x - theta[0]*theta[1]**2*T + 2*theta[0]*theta[1]*inte_x - theta[0]*inte_sx )\n",
    "    \n",
    "    gtheta[1] = sigma**(-2) * ( theta[0]*diff_x - theta[0]**2*theta[1]*T + theta[0]**2*inte_x )\n",
    "    \n",
    "    gtheta[2] = grad_lgT(theta,x_seq)\n",
    "    \n",
    "    return gtheta"
   ]
  },
  {
   "cell_type": "markdown",
   "metadata": {},
   "source": [
    "#### 1.1. Model with $\\theta_{3}=1$, $\\theta_{2}=0$ (so RTS can be applied)"
   ]
  },
  {
   "cell_type": "code",
   "execution_count": 128,
   "metadata": {},
   "outputs": [],
   "source": [
    "####### Model Specification ########\n",
    "theta = np.array([0.5,0,1])\n",
    "sigma = 0.2\n",
    "initial_val = 1\n",
    "####################################\n",
    "\n",
    "T = 10\n",
    "Y = gen_data(T)"
   ]
  },
  {
   "cell_type": "code",
   "execution_count": 181,
   "metadata": {},
   "outputs": [
    {
     "data": {
      "text/plain": [
       "array([ 0.00062469,  0.00127066, -0.09076468])"
      ]
     },
     "execution_count": 181,
     "metadata": {},
     "output_type": "execute_result"
    }
   ],
   "source": [
    "grad_exact(theta,T,Y)"
   ]
  },
  {
   "cell_type": "markdown",
   "metadata": {},
   "source": [
    "#### 1.1.1. Monte Carlo approximation of $\\pi_{\\theta} (G_{\\theta})_{3}$: This is only useful when $\\theta_{2}=0$"
   ]
  },
  {
   "cell_type": "code",
   "execution_count": 130,
   "metadata": {},
   "outputs": [
    {
     "name": "stderr",
     "output_type": "stream",
     "text": [
      "100% (100000 of 100000) |################| Elapsed Time: 0:00:11 Time:  0:00:11\n"
     ]
    },
    {
     "name": "stdout",
     "output_type": "stream",
     "text": [
      "G(X_T) approximatly around -4.386021259852326 +- 0.005585222780913729\n"
     ]
    }
   ],
   "source": [
    "mu,V = RTS_OU(theta,T,Y)\n",
    "\n",
    "num_mc = 100000\n",
    "x_col = np.zeros((num_mc,T+1))\n",
    "rep_val = np.zeros(num_mc)\n",
    "pr = progressbar.ProgressBar(max_value=num_mc).start()\n",
    "for i in range(num_mc):\n",
    "    ## Generate a path according to marginal smoothing distribution by RTS smoother\n",
    "    x_seq = np.zeros(T+1)\n",
    "    for t in range(1,T+1):\n",
    "        x_seq[t] = mu[t] + np.random.randn(1)*np.sqrt(V[t])\n",
    "    ## Repord value of G evaluated with this realization    \n",
    "    rep_val[i] = grad_lgT(theta,x_seq)\n",
    "    pr.update(i+1)\n",
    "pr.finish()\n",
    "\n",
    "print('G(X_T) approximatly around',np.mean(rep_val),'+-',np.sqrt(np.var(rep_val)/num_mc)*2)"
   ]
  },
  {
   "cell_type": "code",
   "execution_count": 178,
   "metadata": {},
   "outputs": [
    {
     "data": {
      "text/plain": [
       "1.0"
      ]
     },
     "execution_count": 178,
     "metadata": {},
     "output_type": "execute_result"
    }
   ],
   "source": [
    "sig_mean(0)"
   ]
  },
  {
   "cell_type": "code",
   "execution_count": 115,
   "metadata": {},
   "outputs": [
    {
     "data": {
      "text/plain": [
       "0.11607122070033346"
      ]
     },
     "execution_count": 115,
     "metadata": {},
     "output_type": "execute_result"
    }
   ],
   "source": [
    "Full_Particle_filter(l,T,N)"
   ]
  },
  {
   "cell_type": "code",
   "execution_count": 122,
   "metadata": {},
   "outputs": [
    {
     "data": {
      "text/plain": [
       "array([0.        , 0.0243324 , 0.03262214, 0.03544635, 0.03640852,\n",
       "       0.03673632, 0.036848  , 0.03688605, 0.03689901, 0.03690343,\n",
       "       0.03690494, 0.03690549, 0.03690575, 0.03690608, 0.03690689,\n",
       "       0.0369092 , 0.03691597, 0.03693583, 0.03699413, 0.03716526,\n",
       "       0.03766756])"
      ]
     },
     "execution_count": 122,
     "metadata": {},
     "output_type": "execute_result"
    }
   ],
   "source": [
    "V"
   ]
  },
  {
   "cell_type": "code",
   "execution_count": 121,
   "metadata": {},
   "outputs": [
    {
     "data": {
      "text/plain": [
       "array([0.        , 0.02563071, 0.03326259, 0.03612275, 0.03769614,\n",
       "       0.03854013, 0.03858819, 0.03920326, 0.03846563, 0.03816246,\n",
       "       0.03722968, 0.0370558 , 0.03745014, 0.03705456, 0.03704914,\n",
       "       0.03766984, 0.03711735, 0.03791601, 0.03791878, 0.03828559,\n",
       "       0.04004685])"
      ]
     },
     "execution_count": 121,
     "metadata": {},
     "output_type": "execute_result"
    }
   ],
   "source": [
    "np.var(path_col,axis=0)"
   ]
  },
  {
   "cell_type": "markdown",
   "metadata": {},
   "source": [
    "#### 1.1.2. Markov Chain Monte Carlo approximation of $\\pi_{\\theta}^{l}(G_{\\theta})_{3}$ with Cond-PF"
   ]
  },
  {
   "cell_type": "code",
   "execution_count": 117,
   "metadata": {},
   "outputs": [
    {
     "name": "stderr",
     "output_type": "stream",
     "text": [
      "100% (10000 of 10000) |##################| Elapsed Time: 0:02:58 Time:  0:02:58\n"
     ]
    },
    {
     "name": "stdout",
     "output_type": "stream",
     "text": [
      "G(X1) approximatly around 11.316612950475859 +- 0.058589823258968846\n"
     ]
    }
   ],
   "source": [
    "l=4\n",
    "initial_path = initial_path_gen(l,T)\n",
    "Rep_num = 10000\n",
    "\n",
    "path_iter = np.zeros(initial_path.shape[0])\n",
    "path_iter = Conditional_particle_filter(l,T,N,initial_path)\n",
    "path_col = np.zeros((Rep_num,T+1))\n",
    "rep_val = np.zeros(Rep_num)\n",
    "unit_path = np.zeros(T+1)\n",
    "\n",
    "\n",
    "pr = progressbar.ProgressBar(max_value=Rep_num).start()\n",
    "for i in range(Rep_num):\n",
    "    unit_path = path_iter[0::2**l]\n",
    "    rep_val[i] = grad_lgT(theta,unit_path)\n",
    "    path_col[i] = unit_path\n",
    "    path_iter = Conditional_particle_filter(l,T,N,path_iter)\n",
    "    pr.update(i+1)\n",
    "pr.finish()\n",
    "\n",
    "print('G(X1) approximatly around',np.mean(rep_val),'+-',np.sqrt(np.var(rep_val)/Rep_num)*2)"
   ]
  },
  {
   "cell_type": "code",
   "execution_count": 131,
   "metadata": {},
   "outputs": [
    {
     "name": "stderr",
     "output_type": "stream",
     "text": [
      "100% (1000 of 1000) |####################| Elapsed Time: 0:00:08 Time:  0:00:08\n"
     ]
    },
    {
     "name": "stdout",
     "output_type": "stream",
     "text": [
      "G(X) approximatly around [ 1.50515474  0.10516891 -4.42285199] +- [0.32401847 0.48029199 0.05917162]\n"
     ]
    }
   ],
   "source": [
    "l=4\n",
    "initial_path = initial_path_gen(l,T)\n",
    "Rep_num = 1000\n",
    "\n",
    "path_iter = np.zeros(initial_path.shape[0])\n",
    "path_iter = Conditional_particle_filter(l,T,N,initial_path)\n",
    "rep_val = np.zeros((Rep_num,3))\n",
    "unit_path = np.zeros(T+1)\n",
    "\n",
    "\n",
    "pr = progressbar.ProgressBar(max_value=Rep_num).start()\n",
    "for i in range(Rep_num):\n",
    "    rep_val[i] = Gfunc_discrete(l,path_iter)\n",
    "    path_iter = Conditional_particle_filter(l,T,N,path_iter)\n",
    "    pr.update(i+1)\n",
    "pr.finish()\n",
    "\n",
    "print('G(X) approximatly around',np.mean(rep_val,axis=0),'+-',np.sqrt(np.var(rep_val,axis=0)/Rep_num)*2)"
   ]
  },
  {
   "cell_type": "markdown",
   "metadata": {},
   "source": [
    "#### True value $\\pi_{\\theta}(G_{\\theta}) = \\nabla \\log p_{\\theta}(y)$"
   ]
  },
  {
   "cell_type": "code",
   "execution_count": 133,
   "metadata": {},
   "outputs": [
    {
     "data": {
      "text/plain": [
       "array([ 1.42887422,  0.34248389, -4.33960349])"
      ]
     },
     "execution_count": 133,
     "metadata": {},
     "output_type": "execute_result"
    }
   ],
   "source": [
    "grad_exact(theta,T,Y)"
   ]
  },
  {
   "cell_type": "markdown",
   "metadata": {},
   "source": [
    "#### 1.2. General Model with relatively big $\\theta_{3}$ values"
   ]
  },
  {
   "cell_type": "code",
   "execution_count": 142,
   "metadata": {},
   "outputs": [],
   "source": [
    "####### Model Specification ########\n",
    "theta = np.array([0.5,0.4,1])\n",
    "sigma = 0.2\n",
    "initial_val = 1\n",
    "####################################\n",
    "\n",
    "T = 10\n",
    "Y = gen_data(T)"
   ]
  },
  {
   "cell_type": "markdown",
   "metadata": {},
   "source": [
    "#### True value $\\pi_{\\theta}(G_{\\theta}) = \\nabla \\log p_{\\theta}(y)$"
   ]
  },
  {
   "cell_type": "code",
   "execution_count": 143,
   "metadata": {},
   "outputs": [
    {
     "data": {
      "text/plain": [
       "array([-0.6421106 ,  2.86502946, -5.03298652])"
      ]
     },
     "execution_count": 143,
     "metadata": {},
     "output_type": "execute_result"
    }
   ],
   "source": [
    "grad_exact(theta,T,Y)"
   ]
  },
  {
   "cell_type": "markdown",
   "metadata": {},
   "source": [
    "#### MCMC approximation of $\\pi_{\\theta}^{l}(G_{\\theta})$ Cond-PF"
   ]
  },
  {
   "cell_type": "code",
   "execution_count": 144,
   "metadata": {},
   "outputs": [
    {
     "name": "stderr",
     "output_type": "stream",
     "text": [
      "100% (1000 of 1000) |####################| Elapsed Time: 0:00:15 Time:  0:00:15\n"
     ]
    },
    {
     "name": "stdout",
     "output_type": "stream",
     "text": [
      "G(X) approximatly around [-0.62691618  2.44093128 -5.14555165] +- [0.29107692 0.47551471 0.06405028]\n"
     ]
    }
   ],
   "source": [
    "l=5\n",
    "initial_path = initial_path_gen(l,T)\n",
    "Rep_num = 1000\n",
    "\n",
    "path_iter = np.zeros(initial_path.shape[0])\n",
    "path_iter = Conditional_particle_filter(l,T,N,initial_path)\n",
    "rep_val = np.zeros((Rep_num,3))\n",
    "unit_path = np.zeros(T+1)\n",
    "\n",
    "\n",
    "pr = progressbar.ProgressBar(max_value=Rep_num).start()\n",
    "for i in range(Rep_num):\n",
    "    rep_val[i] = Gfunc_discrete(l,path_iter)\n",
    "    path_iter = Conditional_particle_filter(l,T,N,path_iter)\n",
    "    pr.update(i+1)\n",
    "pr.finish()\n",
    "\n",
    "print('G(X) approximatly around',np.mean(rep_val,axis=0),'+-',np.sqrt(np.var(rep_val,axis=0)/Rep_num)*2)"
   ]
  },
  {
   "cell_type": "code",
   "execution_count": 138,
   "metadata": {},
   "outputs": [
    {
     "data": {
      "text/plain": [
       "array([18.53326968, 54.51237546,  1.25748629])"
      ]
     },
     "execution_count": 138,
     "metadata": {},
     "output_type": "execute_result"
    }
   ],
   "source": [
    "np.var(rep_val,axis=0)"
   ]
  },
  {
   "cell_type": "markdown",
   "metadata": {},
   "source": [
    "#### In order to keep the variance low, we need to choose the parameters carefully\n",
    "\n",
    "#### For $G_{\\theta}(X_{t}^i)_{3}$, preferred choice is small $\\sigma$ and big $\\theta_{1}$ and (relatively) big $\\theta_{2}$"
   ]
  },
  {
   "cell_type": "code",
   "execution_count": 225,
   "metadata": {},
   "outputs": [],
   "source": [
    "####### Model Specification ########\n",
    "theta = np.array([3,7,11])\n",
    "sigma = 1\n",
    "initial_val = 1\n",
    "####################################\n",
    "\n",
    "T = 1\n",
    "Y = gen_data(T)"
   ]
  },
  {
   "cell_type": "code",
   "execution_count": 226,
   "metadata": {},
   "outputs": [],
   "source": [
    "N = 1000"
   ]
  },
  {
   "cell_type": "code",
   "execution_count": 227,
   "metadata": {},
   "outputs": [
    {
     "name": "stderr",
     "output_type": "stream",
     "text": [
      "100% (1000 of 1000) |####################| Elapsed Time: 0:00:11 Time:  0:00:11\n"
     ]
    },
    {
     "name": "stdout",
     "output_type": "stream",
     "text": [
      "G(X)_1 approximatly around [-0.06943125  0.07853769 -0.03581512] +- [0.15403531 0.18666798 0.00032774]\n"
     ]
    }
   ],
   "source": [
    "import progressbar\n",
    "l=8\n",
    "initial_path = initial_path_gen(l,T)\n",
    "Rep_num = 1000\n",
    "\n",
    "path_iter = np.zeros(initial_path.shape[0])\n",
    "path_iter = Conditional_particle_filter(l,T,N,initial_path)\n",
    "rep_val = np.zeros((Rep_num,3))\n",
    "unit_path = np.zeros(T+1)\n",
    "end_sample = np.zeros(Rep_num)\n",
    "\n",
    "\n",
    "pr = progressbar.ProgressBar(max_value=Rep_num).start()\n",
    "for i in range(Rep_num):\n",
    "    rep_val[i] = Gl(l,path_iter)\n",
    "    end_sample[i] = path_iter[-1]\n",
    "    path_iter = Conditional_particle_filter(l,T,N,path_iter)\n",
    "    pr.update(i+1)\n",
    "pr.finish()\n",
    "\n",
    "print('G(X)_1 approximatly around',np.mean(rep_val,axis=0),'+-',np.sqrt(np.var(rep_val,axis=0)/Rep_num)*2)"
   ]
  },
  {
   "cell_type": "code",
   "execution_count": 228,
   "metadata": {},
   "outputs": [
    {
     "data": {
      "text/plain": [
       "array([ 0.02119043,  0.06712179, -0.0358963 ])"
      ]
     },
     "execution_count": 228,
     "metadata": {},
     "output_type": "execute_result"
    }
   ],
   "source": [
    "grad_exact(theta,T,Y)"
   ]
  },
  {
   "cell_type": "code",
   "execution_count": 229,
   "metadata": {},
   "outputs": [
    {
     "data": {
      "text/plain": [
       "array([5.93171942e+00, 8.71123402e+00, 2.68539728e-05])"
      ]
     },
     "execution_count": 229,
     "metadata": {},
     "output_type": "execute_result"
    }
   ],
   "source": [
    "## sigma=1\n",
    "np.var(rep_val,axis=0)"
   ]
  },
  {
   "cell_type": "markdown",
   "metadata": {},
   "source": [
    "#### Check convergence wrt to $l$ of $\\pi_{\\theta}^{l}(G_{\\theta}^{l}) - \\pi_{\\theta}(G_{\\theta})$"
   ]
  },
  {
   "cell_type": "code",
   "execution_count": 236,
   "metadata": {},
   "outputs": [],
   "source": [
    "####### Model Specification ########\n",
    "theta = np.array([0.5,0.4,1])\n",
    "sigma = 0.2\n",
    "initial_val = 1\n",
    "####################################\n",
    "\n",
    "\n",
    "T = 50\n",
    "Y = gen_data(T)"
   ]
  },
  {
   "cell_type": "code",
   "execution_count": 237,
   "metadata": {},
   "outputs": [
    {
     "name": "stderr",
     "output_type": "stream",
     "text": [
      "100% (10000 of 10000) |##################| Elapsed Time: 0:02:31 Time:  0:02:31\n"
     ]
    },
    {
     "name": "stdout",
     "output_type": "stream",
     "text": [
      "G(X)_1 approximatly around [-1.5643084   9.288106    3.77657222] +- [0.15233256 0.33079512 0.05283027]\n"
     ]
    }
   ],
   "source": [
    "import progressbar\n",
    "l=2\n",
    "initial_path = initial_path_gen(l,T)\n",
    "Rep_num = 10000\n",
    "\n",
    "path_iter = np.zeros(initial_path.shape[0])\n",
    "path_iter = Conditional_particle_filter(l,T,N,initial_path)\n",
    "rep_val = np.zeros((Rep_num,3))\n",
    "unit_path = np.zeros(T+1)\n",
    "end_sample = np.zeros(Rep_num)\n",
    "\n",
    "\n",
    "pr = progressbar.ProgressBar(max_value=Rep_num).start()\n",
    "for i in range(Rep_num):\n",
    "    rep_val[i] = Gl(l,path_iter)\n",
    "    end_sample[i] = path_iter[-1]\n",
    "    path_iter = Conditional_particle_filter(l,T,N,path_iter)\n",
    "    pr.update(i+1)\n",
    "pr.finish()\n",
    "\n",
    "print('G(X)_1 approximatly around',np.mean(rep_val,axis=0),'+-',np.sqrt(np.var(rep_val,axis=0)/Rep_num)*2)"
   ]
  },
  {
   "cell_type": "code",
   "execution_count": 235,
   "metadata": {},
   "outputs": [
    {
     "data": {
      "text/plain": [
       "array([2.00557997e+01, 4.50104694e+02, 4.42985515e-03])"
      ]
     },
     "execution_count": 235,
     "metadata": {},
     "output_type": "execute_result"
    }
   ],
   "source": [
    "np.var(rep_val,axis=0)"
   ]
  },
  {
   "cell_type": "code",
   "execution_count": 233,
   "metadata": {},
   "outputs": [
    {
     "data": {
      "text/plain": [
       "array([5.85715707e-04, 4.07427895e-01, 1.19812108e+00])"
      ]
     },
     "execution_count": 233,
     "metadata": {},
     "output_type": "execute_result"
    }
   ],
   "source": [
    "grad_exact(theta,T,Y)"
   ]
  },
  {
   "cell_type": "code",
   "execution_count": null,
   "metadata": {},
   "outputs": [],
   "source": []
  },
  {
   "cell_type": "code",
   "execution_count": null,
   "metadata": {},
   "outputs": [],
   "source": []
  },
  {
   "cell_type": "code",
   "execution_count": null,
   "metadata": {},
   "outputs": [],
   "source": []
  },
  {
   "cell_type": "code",
   "execution_count": null,
   "metadata": {},
   "outputs": [],
   "source": []
  },
  {
   "cell_type": "code",
   "execution_count": 73,
   "metadata": {},
   "outputs": [],
   "source": [
    "import autograd.numpy as np\n",
    "from autograd import grad\n",
    "\n",
    "def grad_auto1(theta):\n",
    "    ans = 0\n",
    "    for t in range(1,T+1):        \n",
    "        x_mean = initial_val*np.exp(-theta[0]*t) + theta[1]*(1-np.exp(-theta[0]*t))\n",
    "        x_var = (sigma**2 / (2*theta[0])) * (1-np.exp(-2*theta[0]*t))\n",
    "     \n",
    "        ans = ans - 0.5*np.log(theta[2]**2 + x_var) - ((Y[t]-x_mean)**2)/(2*(theta[2]**2+x_var))\n",
    "    return ans\n",
    "\n",
    "grad_auto = grad(grad_auto1)"
   ]
  }
 ],
 "metadata": {
  "kernelspec": {
   "display_name": "Python 3",
   "language": "python",
   "name": "python3"
  },
  "language_info": {
   "codemirror_mode": {
    "name": "ipython",
    "version": 3
   },
   "file_extension": ".py",
   "mimetype": "text/x-python",
   "name": "python",
   "nbconvert_exporter": "python",
   "pygments_lexer": "ipython3",
   "version": "3.7.7"
  }
 },
 "nbformat": 4,
 "nbformat_minor": 4
}
